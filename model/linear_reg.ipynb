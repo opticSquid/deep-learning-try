{
 "cells": [
  {
   "cell_type": "markdown",
   "metadata": {},
   "source": [
    "# Test on creating a linear regression model for finding amplitude of a square wave given frequency, time and phase\n"
   ]
  },
  {
   "cell_type": "markdown",
   "metadata": {},
   "source": [
    "### Importing modules and packages\n"
   ]
  },
  {
   "cell_type": "code",
   "execution_count": 44,
   "metadata": {},
   "outputs": [],
   "source": [
    "import matplotlib.pyplot as plt\n",
    "import numpy as np\n",
    "from scipy import signal\n",
    "%matplotlib inline\n"
   ]
  },
  {
   "cell_type": "markdown",
   "metadata": {},
   "source": [
    "## Creating Training Dataset\n",
    "The training dataset would be in the form of 3 rows:\n",
    "- First row contains time of observation.\n",
    "- Second row contains freqency of the signal.\n",
    "- Third row contains phase of the signal.\n"
   ]
  },
  {
   "cell_type": "code",
   "execution_count": 47,
   "metadata": {},
   "outputs": [
    {
     "name": "stdout",
     "output_type": "stream",
     "text": [
      "Train set: \n",
      " [[-1.00000000e+00 -9.97997998e-01 -9.95995996e-01 ...  9.95995996e-01\n",
      "   9.97997998e-01  1.00000000e+00]\n",
      " [ 0.00000000e+00  1.00000000e+00  2.00000000e+00 ...  9.97000000e+02\n",
      "   9.98000000e+02  9.99000000e+02]\n",
      " [ 0.00000000e+00  3.60000000e-01  7.20000000e-01 ...  3.58920000e+02\n",
      "   3.59280000e+02  3.59640000e+02]]\n",
      "Shape of train set: (3, 1000)\n"
     ]
    }
   ],
   "source": [
    "# Creating  training feature vectors\n",
    "# taking 1000 samples between -1 and 1 with 1 included.\n",
    "train_set_time = np.linspace(-1, 1, 1000, endpoint=True).reshape(1, 1000)\n",
    "train_set_freq = np.arange(1000).reshape(1, 1000)\n",
    "# End point is false because 0 and 360 phase is same.\n",
    "train_set_phase = np.linspace(0,360,1000, endpoint=False).reshape(1, 1000)\n",
    "train_set_x = np.concatenate((train_set_time, train_set_freq, train_set_phase))\n",
    "print(\"Train set: \\n\", train_set_x)\n",
    "print(\"Shape of train set: \"+str(train_set_x.shape))\n"
   ]
  },
  {
   "cell_type": "code",
   "execution_count": 20,
   "metadata": {},
   "outputs": [
    {
     "name": "stdout",
     "output_type": "stream",
     "text": [
      "Test set: \n",
      " [[  2.           2.36734694   2.73469388   3.10204082   3.46938776\n",
      "    3.83673469   4.20408163   4.57142857   4.93877551   5.30612245\n",
      "    5.67346939   6.04081633   6.40816327   6.7755102    7.14285714\n",
      "    7.51020408   7.87755102   8.24489796   8.6122449    8.97959184\n",
      "    9.34693878   9.71428571  10.08163265  10.44897959  10.81632653\n",
      "   11.18367347  11.55102041  11.91836735  12.28571429  12.65306122\n",
      "   13.02040816  13.3877551   13.75510204  14.12244898  14.48979592\n",
      "   14.85714286  15.2244898   15.59183673  15.95918367  16.32653061\n",
      "   16.69387755  17.06122449  17.42857143  17.79591837  18.16326531\n",
      "   18.53061224  18.89795918  19.26530612  19.63265306  20.        ]\n",
      " [  0.           1.           2.           3.           4.\n",
      "    5.           6.           7.           8.           9.\n",
      "   10.          11.          12.          13.          14.\n",
      "   15.          16.          17.          18.          19.\n",
      "   20.          21.          22.          23.          24.\n",
      "   25.          26.          27.          28.          29.\n",
      "   30.          31.          32.          33.          34.\n",
      "   35.          36.          37.          38.          39.\n",
      "   40.          41.          42.          43.          44.\n",
      "   45.          46.          47.          48.          49.        ]\n",
      " [  0.           7.2         14.4         21.6         28.8\n",
      "   36.          43.2         50.4         57.6         64.8\n",
      "   72.          79.2         86.4         93.6        100.8\n",
      "  108.         115.2        122.4        129.6        136.8\n",
      "  144.         151.2        158.4        165.6        172.8\n",
      "  180.         187.2        194.4        201.6        208.8\n",
      "  216.         223.2        230.4        237.6        244.8\n",
      "  252.         259.2        266.4        273.6        280.8\n",
      "  288.         295.2        302.4        309.6        316.8\n",
      "  324.         331.2        338.4        345.6        352.8       ]]\n",
      "Shape of test set: (3, 50)\n"
     ]
    }
   ],
   "source": [
    "# Creating  testing feature vectors\n",
    "# taking 100 samples between -1 and 1 with 1 included.\n",
    "test_set_time = np.linspace(2, 20, 50, endpoint=True).reshape(1, 50)\n",
    "test_set_freq = np.arange(50).reshape(1, 50)\n",
    "test_set_phase = np.linspace(0,360,50, endpoint=False).reshape(1, 50)\n",
    "test_set_x = np.concatenate((test_set_time, test_set_freq, test_set_phase))\n",
    "print(\"Test set: \\n\", test_set_x)\n",
    "print(\"Shape of test set: \"+str(test_set_x.shape))"
   ]
  },
  {
   "cell_type": "markdown",
   "metadata": {},
   "source": [
    "### Helper Functions\n"
   ]
  },
  {
   "cell_type": "markdown",
   "metadata": {},
   "source": [
    "### Square Wave Function\n"
   ]
  },
  {
   "cell_type": "code",
   "execution_count": 21,
   "metadata": {},
   "outputs": [],
   "source": [
    "# Function to find the square wave amplitude, taking input time,frequecy, phase of the wave.\n",
    "def square_wave_function(time, frequency, phase):\n",
    "    return signal.square(2*np.pi*frequency*time + phase)\n"
   ]
  },
  {
   "cell_type": "markdown",
   "metadata": {},
   "source": [
    "### Testing Square Wave Function\n"
   ]
  },
  {
   "cell_type": "code",
   "execution_count": 22,
   "metadata": {},
   "outputs": [
    {
     "name": "stdout",
     "output_type": "stream",
     "text": [
      "Shape of time vector:  (1, 100)\n",
      "First 5 column elements of time vector: \n",
      " [0.         0.01010101 0.02020202 0.03030303 0.04040404]\n",
      "Shape of amplitude vector:  (1, 100)\n",
      "First 5 column elements of amplitude vector: \n",
      " [-1. -1. -1. -1. -1.]\n"
     ]
    },
    {
     "data": {
      "text/plain": [
       "Text(0.5, 1.0, 'Square Wave, Phase angle 30, Frequenct 5Hz')"
      ]
     },
     "execution_count": 22,
     "metadata": {},
     "output_type": "execute_result"
    },
    {
     "data": {
      "image/png": "[encoded data removed]",
      "text/plain": [
       "<Figure size 432x288 with 1 Axes>"
      ]
     },
     "metadata": {
      "needs_background": "light"
     },
     "output_type": "display_data"
    }
   ],
   "source": [
    "# Gives out rank 1 vector which is inconsistent so we reshape it to (1,100) vector which is a row vector.\n",
    "test_wave_time = np.linspace(0, 1, 100, endpoint=True).reshape(1, 100)\n",
    "print(\"Shape of time vector: \", str(test_wave_time.shape))\n",
    "print(\"First 5 column elements of time vector: \\n\", test_wave_time[0, 0:5])\n",
    "# =================================================\n",
    "test_wave_amplitude = square_wave_function(test_wave_time, 5, 30)\n",
    "print(\"Shape of amplitude vector: \", str(test_wave_amplitude.shape))\n",
    "print(\"First 5 column elements of amplitude vector: \\n\",\n",
    "      test_wave_amplitude[0, 0:5])\n",
    "# =================================================\n",
    "\n",
    "plt.plot(test_wave_time[0], test_wave_amplitude[0])\n",
    "plt.ylabel(\"Amplitude\")\n",
    "plt.xlabel(\"Time\")\n",
    "plt.title(\"Square Wave, Phase angle 30, Frequenct 5Hz\")\n"
   ]
  },
  {
   "cell_type": "markdown",
   "metadata": {},
   "source": [
    "It should be in the shape of a square wave.\n",
    "\n",
    "<table style=\"width:35\">\n",
    "    <tr>\n",
    "        <td>\n",
    "            Shape of time vector\n",
    "        </td>\n",
    "        <td>\n",
    "            (1, 100)\n",
    "        </td>\n",
    "    </tr>\n",
    "    <tr>\n",
    "        <td>\n",
    "            Shape of amplitude vector\n",
    "        </td>\n",
    "        <td>\n",
    "            (1, 100)\n",
    "        </td>\n",
    "    </tr>\n",
    "</table>\n"
   ]
  },
  {
   "cell_type": "code",
   "execution_count": 70,
   "metadata": {},
   "outputs": [
    {
     "name": "stdout",
     "output_type": "stream",
     "text": [
      "3 examples of training feature vector: \n",
      " [[-1.       -0.997998 -0.995996]\n",
      " [ 0.        1.        2.      ]\n",
      " [ 0.        0.36      0.72    ]]\n",
      "Corresponding training lables:\n",
      " [[1. 1. 1.]]\n",
      "Shape of train labels: (1, 1000)\n",
      "==================================================\n",
      "3 examples of test feature vector: \n",
      " [[ 2.          2.36734694  2.73469388]\n",
      " [ 0.          1.          2.        ]\n",
      " [ 0.          7.2        14.4       ]]\n",
      "Corresponding test lables:\n",
      " [[ 1. -1. -1.]]\n",
      "Shape of test labels: (1, 50)\n"
     ]
    }
   ],
   "source": [
    "# Creating label vectors\n",
    "train_set_y = square_wave_function(train_set_x[0], train_set_x[1], train_set_x[2]).reshape(1,1000)\n",
    "test_set_y = square_wave_function(test_set_x[0], test_set_x[1], test_set_x[2]).reshape(1,50)\n",
    "print(\"3 examples of training feature vector: \\n\",train_set_x[:,0:3])\n",
    "print(\"Corresponding training lables:\\n\",train_set_y[:,0:3])\n",
    "print(\"Shape of train labels: \"+str(train_set_y.shape))\n",
    "for i in range(0,50):\n",
    "    print(\"=\",end=\"\")\n",
    "print()\n",
    "print(\"3 examples of test feature vector: \\n\",test_set_x[:,0:3])\n",
    "print(\"Corresponding test lables:\\n\",test_set_y[:,0:3])\n",
    "print(\"Shape of test labels: \"+str(test_set_y.shape))\n"
   ]
  },
  {
   "cell_type": "code",
   "execution_count": 61,
   "metadata": {},
   "outputs": [
    {
     "name": "stdout",
     "output_type": "stream",
     "text": [
      "1st element of train array: \n",
      " -0.997997997997998\n",
      "-1.0\n"
     ]
    }
   ],
   "source": [
    "# Final verification of dataset\n",
    "singleArray = train_set_x\n",
    "print(\"1st element of train array: \\n\", singleArray[0,1])\n",
    "test = square_wave_function(\n",
    "    singleArray[0, 8], singleArray[1, 8], singleArray[2,8])\n",
    "print(test)\n",
    "# check the outut of this cell wih the cells above"
   ]
  },
  {
   "cell_type": "markdown",
   "metadata": {},
   "source": [
    "# Building the model\n"
   ]
  },
  {
   "cell_type": "code",
   "execution_count": 150,
   "metadata": {},
   "outputs": [],
   "source": [
    "# Activation Function\n",
    "def sigmoid(x):\n",
    "    return 1/(1+np.exp(-x))\n"
   ]
  },
  {
   "cell_type": "code",
   "execution_count": 143,
   "metadata": {},
   "outputs": [
    {
     "ename": "SyntaxError",
     "evalue": "unexpected EOF while parsing (3602031354.py, line 3)",
     "output_type": "error",
     "traceback": [
      "\u001b[0;36m  File \u001b[0;32m\"/tmp/ipykernel_6416/3602031354.py\"\u001b[0;36m, line \u001b[0;32m3\u001b[0m\n\u001b[0;31m    \u001b[0m\n\u001b[0m    ^\u001b[0m\n\u001b[0;31mSyntaxError\u001b[0m\u001b[0;31m:\u001b[0m unexpected EOF while parsing\n"
     ]
    }
   ],
   "source": [
    "# Initilizing Parameters (weights and bias)\n",
    "def initialize_parameters(dimension):\n",
    "    "
   ]
  }
 ],
 "metadata": {
  "interpreter": {
   "hash": "c409bb12796ae51239ab9e0b11caa7df8ff8fc3b47d30da24902cf214165a2ea"
  },
  "kernelspec": {
   "display_name": "Python 3.8.10 64-bit ('ml_venv': venv)",
   "language": "python",
   "name": "python3"
  },
  "language_info": {
   "codemirror_mode": {
    "name": "ipython",
    "version": 3
   },
   "file_extension": ".py",
   "mimetype": "text/x-python",
   "name": "python",
   "nbconvert_exporter": "python",
   "pygments_lexer": "ipython3",
   "version": "3.8.10"
  },
  "orig_nbformat": 4
 },
 "nbformat": 4,
 "nbformat_minor": 2
}
