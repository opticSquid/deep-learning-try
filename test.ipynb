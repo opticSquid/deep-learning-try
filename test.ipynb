{
 "cells": [
  {
   "cell_type": "code",
   "execution_count": 12,
   "metadata": {},
   "outputs": [],
   "source": [
    "import numpy as np\n",
    "import matplotlib.pyplot as plt"
   ]
  },
  {
   "cell_type": "code",
   "execution_count": 21,
   "metadata": {},
   "outputs": [],
   "source": [
    "def test_func(x):\n",
    "    return (x > 50)*1.0"
   ]
  },
  {
   "cell_type": "code",
   "execution_count": 24,
   "metadata": {},
   "outputs": [
    {
     "name": "stdout",
     "output_type": "stream",
     "text": [
      "[[  0.          11.11111111  22.22222222  33.33333333  44.44444444\n",
      "   55.55555556  66.66666667  77.77777778  88.88888889 100.        ]]\n",
      "[[0. 0. 0. 0. 0. 1. 1. 1. 1. 1.]]\n"
     ]
    }
   ],
   "source": [
    "train_set_time = np.linspace(0, 100, 10, endpoint=True).reshape(1, 10)\n",
    "print(train_set_time)\n",
    "train_set_y = test_func(\n",
    "    train_set_time).reshape(1, 10)\n",
    "print(train_set_y)\n"
   ]
  },
  {
   "cell_type": "code",
   "execution_count": 14,
   "metadata": {},
   "outputs": [],
   "source": [
    "# Activation Function\n",
    "def sigmoid(x):\n",
    "    return 1/(1+np.exp(-x))"
   ]
  },
  {
   "cell_type": "code",
   "execution_count": 15,
   "metadata": {},
   "outputs": [],
   "source": [
    "# Initilizing Parameters (weights and bias)\n",
    "def initialize_parameters(dimension):\n",
    "    print(\"Incoming dimension to initialize_parameters: \", dimension)\n",
    "    w = np.zeros((dimension, 1))\n",
    "    b = 0\n",
    "    assert(w.shape == (dimension, 1))\n",
    "    assert(isinstance(b, float) or isinstance(b, int))\n",
    "    return w, b"
   ]
  },
  {
   "cell_type": "code",
   "execution_count": 34,
   "metadata": {},
   "outputs": [],
   "source": [
    "def cal_function(w,x,b):\n",
    "    print(f\"Incoming w to cal_function: {w}.\\nw shape: {w.shape}\")\n",
    "    print(\"Incoming x to cal_function:\\n\", x)\n",
    "    print(\"Incoming b to cal_function: \", b)\n",
    "    res = np.dot(w.T,x) + b\n",
    "    print(\"Output of cal_function: \", res)\n",
    "    return res"
   ]
  },
  {
   "cell_type": "code",
   "execution_count": 32,
   "metadata": {},
   "outputs": [],
   "source": [
    "# Forward and backward propagation for single layer w = weight, b = bias, x = training_feature_vector, y = training_label_vector\n",
    "def propagate(w,b,x,y):\n",
    "    m = x.shape[1]\n",
    "    A = sigmoid(cal_function(w,x,b))\n",
    "    print(\"Value of A: \", A)\n",
    "    dw = np.dot(x,(A-y).T)/m\n",
    "    db = np.sum(A-y)/m\n",
    "    assert(dw.shape == w.shape)\n",
    "    assert(db.dtype == float)\n",
    "    # grads = gradients\n",
    "    grads = {\"dw\": dw,\n",
    "                \"db\": db}\n",
    "    print(f\"dw={dw}\\ndb={db}\")\n",
    "    return grads\n",
    "\n"
   ]
  },
  {
   "cell_type": "code",
   "execution_count": null,
   "metadata": {},
   "outputs": [],
   "source": [
    "def tune_params(w, b, x, y, learning_rate=0.5, num_iterations=100):\n",
    "    print(f\"Original weights and Bias:\\nw={w}\\nb={b}\") \n",
    "    for i in range(num_iterations):\n",
    "        grads = propagate(w, b, x, y)\n",
    "        dw = grads[\"dw\"]\n",
    "        db = grads[\"db\"]\n",
    "        w = w - (learning_rate*dw)\n",
    "        b = b - (learning_rate*db)\n",
    "        print(f\"Modified weights and Bias:\\nw={w}\\nb={b}\")\n",
    "    # Final weight and bias of the model\n",
    "    params = {\"w\": w,\n",
    "              \"b\": b}\n",
    "    # grads is changing in the above loop the final grad is returned here.\n",
    "    grads = {\"dw\": dw,\n",
    "             \"db\": db}\n",
    "    return params, grads\n"
   ]
  },
  {
   "cell_type": "code",
   "execution_count": 33,
   "metadata": {},
   "outputs": [
    {
     "name": "stdout",
     "output_type": "stream",
     "text": [
      "Incoming dimension to initialize_parameters:  1\n",
      "Incoming w to cal_function: [[0.]].\n",
      " w shape: (1, 1)\n",
      "Incoming x to cal_function:\n",
      " [[  0.          11.11111111  22.22222222  33.33333333  44.44444444\n",
      "   55.55555556  66.66666667  77.77777778  88.88888889 100.        ]]\n",
      "Incoming b to cal_function:  0\n",
      "Output of cal_function:  [[0. 0. 0. 0. 0. 0. 0. 0. 0. 0.]]\n",
      "Value of A:  [[0.5 0.5 0.5 0.5 0.5 0.5 0.5 0.5 0.5 0.5]]\n",
      "dw=[[-13.88888889]]\n",
      "db=0.0\n"
     ]
    }
   ],
   "source": [
    "weights, bias = initialize_parameters(train_set_time.shape[0])\n",
    "test = propagate(weights, bias,train_set_time,train_set_y)"
   ]
  },
  {
   "cell_type": "code",
   "execution_count": null,
   "metadata": {},
   "outputs": [],
   "source": []
  }
 ],
 "metadata": {
  "interpreter": {
   "hash": "bc72858bf742bd15c1875c55e2279bdcbafc04acb0718205872477d0614d8183"
  },
  "kernelspec": {
   "display_name": "Python 3.8.10 64-bit ('ml_venv': venv)",
   "language": "python",
   "name": "python3"
  },
  "language_info": {
   "codemirror_mode": {
    "name": "ipython",
    "version": 3
   },
   "file_extension": ".py",
   "mimetype": "text/x-python",
   "name": "python",
   "nbconvert_exporter": "python",
   "pygments_lexer": "ipython3",
   "version": "3.8.10"
  },
  "orig_nbformat": 4
 },
 "nbformat": 4,
 "nbformat_minor": 2
}
